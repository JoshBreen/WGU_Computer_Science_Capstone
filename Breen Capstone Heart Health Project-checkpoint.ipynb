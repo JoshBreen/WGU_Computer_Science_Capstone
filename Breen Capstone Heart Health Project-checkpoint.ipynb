{
 "cells": [
  {
   "cell_type": "markdown",
   "id": "80a88d0f",
   "metadata": {},
   "source": [
    "__Heart Health Predictor__"
   ]
  },
  {
   "cell_type": "code",
   "execution_count": 32,
   "id": "8591a6ea",
   "metadata": {},
   "outputs": [],
   "source": [
    "#Import the libraries and the csv file with the data\n",
    "import pandas as pd\n",
    "import numpy as np\n",
    "from matplotlib import pyplot\n",
    "from pandas.plotting import scatter_matrix\n",
    "from sklearn import linear_model, metrics, model_selection, svm\n",
    "from collections import Counter\n",
    "from sklearn.datasets import make_classification\n",
    "import ipywidgets as widgets\n",
    "import matplotlib.pyplot as plt\n",
    "from IPython.display import clear_output, display\n",
    "from sklearn.metrics import confusion_matrix\n",
    "\n",
    "url = 'https://www.dropbox.com/s/quw4g3noxs9pjrd/heart_disease_health_indicators_BRFSS2015.csv?dl=1'\n",
    "df = pd.io.parsers.read_csv(url)"
   ]
  },
  {
   "cell_type": "code",
   "execution_count": 33,
   "id": "5b08b62b",
   "metadata": {},
   "outputs": [],
   "source": [
    "#Create Model\n",
    "heart_health_model = linear_model.LogisticRegression(multi_class='multinomial', solver='lbfgs', max_iter=1000)\n",
    "\n",
    "#Create y variable data for training\n",
    "y = df[df.columns[:1]].values.ravel()\n",
    "\n",
    "#Create X variable data for training\n",
    "X = df[df.columns[1:]].values"
   ]
  },
  {
   "cell_type": "code",
   "execution_count": 34,
   "id": "af87327a",
   "metadata": {},
   "outputs": [
    {
     "name": "stdout",
     "output_type": "stream",
     "text": [
      "0.909071796489015\n"
     ]
    }
   ],
   "source": [
    "#Break up data into Training and Testing data\n",
    "X_train, X_test, y_train, y_test = model_selection.train_test_split(X,y,test_size=0.3)\n",
    "\n",
    "#Train the model\n",
    "heart_health_model.fit(X_train,y_train)\n",
    "\n",
    "y_pred = heart_health_model.predict(X_test)\n",
    "print(metrics.accuracy_score(y_test, y_pred))"
   ]
  },
  {
   "cell_type": "markdown",
   "id": "a15d09ba",
   "metadata": {},
   "source": [
    "__Heart Health Questionnaire Form Creation__"
   ]
  },
  {
   "cell_type": "code",
   "execution_count": 30,
   "id": "4cf4e09c",
   "metadata": {},
   "outputs": [
    {
     "name": "stdout",
     "output_type": "stream",
     "text": [
      "Welcome to the Heart Health Questionnaire\n",
      "\n",
      "1. Do you have high blood pressure?\n"
     ]
    },
    {
     "data": {
      "application/vnd.jupyter.widget-view+json": {
       "model_id": "857ab239539b4445911fb728e7ce338d",
       "version_major": 2,
       "version_minor": 0
      },
      "text/plain": [
       "Dropdown(options=('No', 'Yes'), value='No')"
      ]
     },
     "metadata": {},
     "output_type": "display_data"
    },
    {
     "name": "stdout",
     "output_type": "stream",
     "text": [
      "2. Do you have high cholesterol?\n"
     ]
    },
    {
     "data": {
      "application/vnd.jupyter.widget-view+json": {
       "model_id": "eb3755a7d856417f84d41224eca3cba7",
       "version_major": 2,
       "version_minor": 0
      },
      "text/plain": [
       "Dropdown(options=('No', 'Yes'), value='No')"
      ]
     },
     "metadata": {},
     "output_type": "display_data"
    },
    {
     "name": "stdout",
     "output_type": "stream",
     "text": [
      "3. Have you had your cholesterol checked within past five years?\n"
     ]
    },
    {
     "data": {
      "application/vnd.jupyter.widget-view+json": {
       "model_id": "ab4e1bc9a26048e69739244d99eca344",
       "version_major": 2,
       "version_minor": 0
      },
      "text/plain": [
       "Dropdown(options=('No', 'Yes'), value='No')"
      ]
     },
     "metadata": {},
     "output_type": "display_data"
    },
    {
     "name": "stdout",
     "output_type": "stream",
     "text": [
      "4. What is your Body Mass Index?\n"
     ]
    },
    {
     "data": {
      "application/vnd.jupyter.widget-view+json": {
       "model_id": "defad8b6f52e48e0bceb497ce571d6ef",
       "version_major": 2,
       "version_minor": 0
      },
      "text/plain": [
       "IntSlider(value=24, min=1)"
      ]
     },
     "metadata": {},
     "output_type": "display_data"
    },
    {
     "name": "stdout",
     "output_type": "stream",
     "text": [
      "5. Are you a smoker?\n"
     ]
    },
    {
     "data": {
      "application/vnd.jupyter.widget-view+json": {
       "model_id": "27a67e998bf34d5693f637d426a3968a",
       "version_major": 2,
       "version_minor": 0
      },
      "text/plain": [
       "Dropdown(options=('No', 'Yes'), value='No')"
      ]
     },
     "metadata": {},
     "output_type": "display_data"
    },
    {
     "name": "stdout",
     "output_type": "stream",
     "text": [
      "6. Have you had a stroke?\n"
     ]
    },
    {
     "data": {
      "application/vnd.jupyter.widget-view+json": {
       "model_id": "606831328d28480ba68861720017a45b",
       "version_major": 2,
       "version_minor": 0
      },
      "text/plain": [
       "Dropdown(options=('No', 'Yes'), value='No')"
      ]
     },
     "metadata": {},
     "output_type": "display_data"
    },
    {
     "name": "stdout",
     "output_type": "stream",
     "text": [
      "7. Do you have Diabetes?\n"
     ]
    },
    {
     "data": {
      "application/vnd.jupyter.widget-view+json": {
       "model_id": "b43da30320ef4495a6cb455eb7f85f50",
       "version_major": 2,
       "version_minor": 0
      },
      "text/plain": [
       "Dropdown(options=('No', 'Pre-Diabetes', 'Diabetes'), value='No')"
      ]
     },
     "metadata": {},
     "output_type": "display_data"
    },
    {
     "name": "stdout",
     "output_type": "stream",
     "text": [
      "8. Are you physically active outside of regular daily activities?\n"
     ]
    },
    {
     "data": {
      "application/vnd.jupyter.widget-view+json": {
       "model_id": "6eb473955e6a4cf4a4308660e89495dd",
       "version_major": 2,
       "version_minor": 0
      },
      "text/plain": [
       "Dropdown(options=('No', 'Yes'), value='No')"
      ]
     },
     "metadata": {},
     "output_type": "display_data"
    },
    {
     "name": "stdout",
     "output_type": "stream",
     "text": [
      "9. Do you eat fruit?\n"
     ]
    },
    {
     "data": {
      "application/vnd.jupyter.widget-view+json": {
       "model_id": "b7782b6043c54ce5a4309fe63f949efd",
       "version_major": 2,
       "version_minor": 0
      },
      "text/plain": [
       "Dropdown(options=('No', 'Yes'), value='No')"
      ]
     },
     "metadata": {},
     "output_type": "display_data"
    },
    {
     "name": "stdout",
     "output_type": "stream",
     "text": [
      "10. Do you eat vegetables?\n"
     ]
    },
    {
     "data": {
      "application/vnd.jupyter.widget-view+json": {
       "model_id": "333b5a7c57e0416fb2ca7968f7096cbc",
       "version_major": 2,
       "version_minor": 0
      },
      "text/plain": [
       "Dropdown(options=('No', 'Yes'), value='No')"
      ]
     },
     "metadata": {},
     "output_type": "display_data"
    },
    {
     "name": "stdout",
     "output_type": "stream",
     "text": [
      "11. Are you a heavy alcohol drinker?\n"
     ]
    },
    {
     "data": {
      "application/vnd.jupyter.widget-view+json": {
       "model_id": "4e1241ebd6c94932ae142c52be91303d",
       "version_major": 2,
       "version_minor": 0
      },
      "text/plain": [
       "Dropdown(options=('No', 'Yes'), value='No')"
      ]
     },
     "metadata": {},
     "output_type": "display_data"
    },
    {
     "name": "stdout",
     "output_type": "stream",
     "text": [
      "12. Have you seen a health care professional in the past year?\n"
     ]
    },
    {
     "data": {
      "application/vnd.jupyter.widget-view+json": {
       "model_id": "8ee7a65318bd4fe1aa58477961be52ca",
       "version_major": 2,
       "version_minor": 0
      },
      "text/plain": [
       "Dropdown(options=('No', 'Yes'), value='No')"
      ]
     },
     "metadata": {},
     "output_type": "display_data"
    },
    {
     "name": "stdout",
     "output_type": "stream",
     "text": [
      "13. Does cost keep you from seeing a Doctor as needed?\n"
     ]
    },
    {
     "data": {
      "application/vnd.jupyter.widget-view+json": {
       "model_id": "9151b074cd3e42e38ca2af786090522e",
       "version_major": 2,
       "version_minor": 0
      },
      "text/plain": [
       "Dropdown(options=('No', 'Yes'), value='No')"
      ]
     },
     "metadata": {},
     "output_type": "display_data"
    },
    {
     "name": "stdout",
     "output_type": "stream",
     "text": [
      "14. Would you say that in general your health is:\n"
     ]
    },
    {
     "data": {
      "application/vnd.jupyter.widget-view+json": {
       "model_id": "add5080ebb504c11a99a3fa6f43ee94f",
       "version_major": 2,
       "version_minor": 0
      },
      "text/plain": [
       "Dropdown(options=('Excellent', 'Very Good', 'Good', 'Fair', 'Poor'), value='Excellent')"
      ]
     },
     "metadata": {},
     "output_type": "display_data"
    },
    {
     "name": "stdout",
     "output_type": "stream",
     "text": [
      "15. Thinking about your mental health, which includes stress, depression, and problems with emotions,\n",
      "for how many days during the past 30 days was your mental health not good?\n"
     ]
    },
    {
     "data": {
      "application/vnd.jupyter.widget-view+json": {
       "model_id": "6e9a5478fbd342ada2e75b87ab317137",
       "version_major": 2,
       "version_minor": 0
      },
      "text/plain": [
       "IntSlider(value=0, max=30)"
      ]
     },
     "metadata": {},
     "output_type": "display_data"
    },
    {
     "name": "stdout",
     "output_type": "stream",
     "text": [
      "16. Now thinking about your physical health, which includes physical illness and injury,\n",
      "for how many days during the past 30 days was your physical health not good?\n"
     ]
    },
    {
     "data": {
      "application/vnd.jupyter.widget-view+json": {
       "model_id": "998c9c4ab6f8413399f208300b67cb8b",
       "version_major": 2,
       "version_minor": 0
      },
      "text/plain": [
       "IntSlider(value=0, max=30)"
      ]
     },
     "metadata": {},
     "output_type": "display_data"
    },
    {
     "name": "stdout",
     "output_type": "stream",
     "text": [
      "17. Do you have serious difficulty walking or climbing stairs?\n"
     ]
    },
    {
     "data": {
      "application/vnd.jupyter.widget-view+json": {
       "model_id": "f6cbb3ccb8c34b979fd915f104fadb5c",
       "version_major": 2,
       "version_minor": 0
      },
      "text/plain": [
       "Dropdown(options=('No', 'Yes'), value='No')"
      ]
     },
     "metadata": {},
     "output_type": "display_data"
    },
    {
     "name": "stdout",
     "output_type": "stream",
     "text": [
      "18. What gender were you assigned at birth?\n"
     ]
    },
    {
     "data": {
      "application/vnd.jupyter.widget-view+json": {
       "model_id": "995b9f35adb74f9e83e3c589da815f41",
       "version_major": 2,
       "version_minor": 0
      },
      "text/plain": [
       "Dropdown(options=('Female', 'Male'), value='Female')"
      ]
     },
     "metadata": {},
     "output_type": "display_data"
    },
    {
     "name": "stdout",
     "output_type": "stream",
     "text": [
      "19. How old are you?\n"
     ]
    },
    {
     "data": {
      "application/vnd.jupyter.widget-view+json": {
       "model_id": "1b90af58f4b34a4da26e4c03c1a8497e",
       "version_major": 2,
       "version_minor": 0
      },
      "text/plain": [
       "Dropdown(options=('18 to 24', '25 to 29', '30 to 34', '35 to 39', '40 to 44', '45 to 49', '50 to 54', '55 to 5…"
      ]
     },
     "metadata": {},
     "output_type": "display_data"
    },
    {
     "name": "stdout",
     "output_type": "stream",
     "text": [
      "20. What is the highest grade or year of school you completed?\n"
     ]
    },
    {
     "data": {
      "application/vnd.jupyter.widget-view+json": {
       "model_id": "992237b316824a91b5dc2c62b0ae8428",
       "version_major": 2,
       "version_minor": 0
      },
      "text/plain": [
       "Dropdown(options=('Never attended school or only kindergarten', 'Grades 1 through 8 (Elementary)', 'Grades 9 t…"
      ]
     },
     "metadata": {},
     "output_type": "display_data"
    },
    {
     "name": "stdout",
     "output_type": "stream",
     "text": [
      "21. What is your household income level?\n"
     ]
    },
    {
     "data": {
      "application/vnd.jupyter.widget-view+json": {
       "model_id": "011ee03b0d494dad95cea96caa44d7f6",
       "version_major": 2,
       "version_minor": 0
      },
      "text/plain": [
       "Dropdown(options=('Less than $10,000', '$10,000 to less than $15,000', '$15,000 to less than $20,000', '$20,00…"
      ]
     },
     "metadata": {},
     "output_type": "display_data"
    },
    {
     "data": {
      "application/vnd.jupyter.widget-view+json": {
       "model_id": "7bb9e6fcc777445fb99c6c3d02f38990",
       "version_major": 2,
       "version_minor": 0
      },
      "text/plain": [
       "Button(description='Check Heart Health', style=ButtonStyle(), tooltip='Click me to check heart health.')"
      ]
     },
     "metadata": {},
     "output_type": "display_data"
    }
   ],
   "source": [
    "#Creates the user form\n",
    "print('Welcome to the Heart Health Questionnaire')\n",
    "print('')\n",
    "\n",
    "#Question 1\n",
    "print('1. Do you have high blood pressure?')\n",
    "one_hbp = widgets.Dropdown(\n",
    "    options = ['No','Yes'],\n",
    "    value='No',    \n",
    "    disabled=False,\n",
    ")\n",
    "display(one_hbp)\n",
    "\n",
    "#Question 2\n",
    "print('2. Do you have high cholesterol?')\n",
    "two_hchl = widgets.Dropdown(\n",
    "    options = ['No','Yes'],\n",
    "    value='No',    \n",
    "    disabled=False,\n",
    ")\n",
    "display(two_hchl)\n",
    "\n",
    "#Question 3\n",
    "print('3. Have you had your cholesterol checked within past five years?')\n",
    "three_chlcheck = widgets.Dropdown(\n",
    "    options = ['No','Yes'],\n",
    "    value='No',    \n",
    "    disabled=False,\n",
    ")\n",
    "display(three_chlcheck)\n",
    "\n",
    "#Question 4\n",
    "print('4. What is your Body Mass Index?')\n",
    "four_bmi = widgets.IntSlider(\n",
    "    value=24,\n",
    "    min=1,\n",
    "    max=100,\n",
    "    step=1,\n",
    "    orientation='horizontal'\n",
    ")\n",
    "display(four_bmi)\n",
    "\n",
    "#Question 5\n",
    "print('5. Are you a smoker?')\n",
    "five_smoker = widgets.Dropdown(\n",
    "    options = ['No','Yes'],\n",
    "    value='No',    \n",
    "    disabled=False,\n",
    ")\n",
    "display(five_smoker)\n",
    "\n",
    "#Question 6\n",
    "print('6. Have you had a stroke?')\n",
    "six_stroke = widgets.Dropdown(\n",
    "    options = ['No','Yes'],\n",
    "    value='No',    \n",
    "    disabled=False,\n",
    ")\n",
    "display(six_stroke)\n",
    "\n",
    "#Question 7\n",
    "print('7. Do you have Diabetes?')\n",
    "seven_diabetes = widgets.Dropdown(\n",
    "    options = ['No','Pre-Diabetes','Diabetes'],\n",
    "    value='No',    \n",
    "    disabled=False,\n",
    ")\n",
    "display(seven_diabetes)\n",
    "\n",
    "#Question 8\n",
    "print('8. Are you physically active outside of regular daily activities?')\n",
    "eight_physactive = widgets.Dropdown(\n",
    "    options = ['No','Yes'],\n",
    "    value='No',    \n",
    "    disabled=False,\n",
    ")\n",
    "display(eight_physactive)\n",
    "\n",
    "#Question 9\n",
    "print('9. Do you eat fruit?')\n",
    "nine_fruit = widgets.Dropdown(\n",
    "    options = ['No','Yes'],\n",
    "    value='No',    \n",
    "    disabled=False,\n",
    ")\n",
    "display(nine_fruit)\n",
    "\n",
    "#Question 10\n",
    "print('10. Do you eat vegetables?')\n",
    "ten_veggies = widgets.Dropdown(\n",
    "    options = ['No','Yes'],\n",
    "    value='No',    \n",
    "    disabled=False,\n",
    ")\n",
    "display(ten_veggies)\n",
    "\n",
    "#Question 11\n",
    "print('11. Are you a heavy alcohol drinker?')\n",
    "eleven_drinker = widgets.Dropdown(\n",
    "    options = ['No','Yes'],\n",
    "    value='No',    \n",
    "    disabled=False,\n",
    ")\n",
    "display(eleven_drinker)\n",
    "\n",
    "#Question 12\n",
    "print('12. Have you seen a health care professional in the past year?')\n",
    "twelve_healthcare = widgets.Dropdown(\n",
    "    options = ['No','Yes'],\n",
    "    value='No',    \n",
    "    disabled=False,\n",
    ")\n",
    "display(twelve_healthcare)\n",
    "\n",
    "#Question 13\n",
    "print('13. Does cost keep you from seeing a Doctor as needed?')\n",
    "thirteen_doctor = widgets.Dropdown(\n",
    "    options = ['No','Yes'],\n",
    "    value='No',    \n",
    "    disabled=False,\n",
    ")\n",
    "display(thirteen_doctor)\n",
    "\n",
    "#Question 14\n",
    "print('14. Would you say that in general your health is:')\n",
    "fourteen_health = widgets.Dropdown(\n",
    "    options = ['Excellent','Very Good', 'Good', 'Fair', 'Poor'],\n",
    "    value='Excellent',    \n",
    "    disabled=False,\n",
    ")\n",
    "display(fourteen_health)\n",
    "\n",
    "#Question 15\n",
    "print('15. Thinking about your mental health, which includes stress, depression, and problems with emotions,') \n",
    "print('for how many days during the past 30 days was your mental health not good?')      \n",
    "fifteen_mentalh = widgets.IntSlider(\n",
    "    value=0,\n",
    "    min=0,\n",
    "    max=30,\n",
    "    step=1,\n",
    "    orientation='horizontal'\n",
    ")\n",
    "display(fifteen_mentalh)\n",
    "\n",
    "#Question 16\n",
    "print('16. Now thinking about your physical health, which includes physical illness and injury,')\n",
    "print('for how many days during the past 30 days was your physical health not good?')\n",
    "sixteen_physh = widgets.IntSlider(\n",
    "    value=0,\n",
    "    min=0,\n",
    "    max=30,\n",
    "    step=1,\n",
    "    orientation='horizontal'\n",
    ")\n",
    "display(sixteen_physh)\n",
    "\n",
    "#Question 17\n",
    "print('17. Do you have serious difficulty walking or climbing stairs?')\n",
    "seventeen_walking = widgets.Dropdown(\n",
    "    options = ['No','Yes'],\n",
    "    value='No',    \n",
    "    disabled=False,\n",
    ")\n",
    "display(seventeen_walking)\n",
    "\n",
    "#Question 18\n",
    "print('18. What gender were you assigned at birth?')\n",
    "eighteen_gender = widgets.Dropdown(\n",
    "    options = ['Female','Male'],\n",
    "    value='Female',    \n",
    "    disabled=False,\n",
    ")\n",
    "display(eighteen_gender)\n",
    "\n",
    "#Question 19\n",
    "print('19. How old are you?')\n",
    "nineteen_age = widgets.Dropdown(\n",
    "    options = ['18 to 24','25 to 29', '30 to 34', '35 to 39', '40 to 44', '45 to 49', '50 to 54', '55 to 59', '60 to 64',\n",
    "              '65 to 69', '70 to 74', '75 to 79', '80 or older'],\n",
    "    value='18 to 24',    \n",
    "    disabled=False,\n",
    ")\n",
    "display(nineteen_age)\n",
    "\n",
    "#Question 20\n",
    "print('20. What is the highest grade or year of school you completed?')\n",
    "twenty_edu = widgets.Dropdown(\n",
    "    options = ['Never attended school or only kindergarten',\n",
    "               'Grades 1 through 8 (Elementary)', \n",
    "               'Grades 9 through 11 (Some high school)',\n",
    "               'Grade 12 or GED (High school graduate)',\n",
    "               'College 1 year to 3 years (Some college or technical school)',\n",
    "               'College 4 years or more (College graduate)'\n",
    "              ],\n",
    "    value='Never attended school or only kindergarten',    \n",
    "    disabled=False,\n",
    ")\n",
    "display(twenty_edu)\n",
    "\n",
    "#Question 21\n",
    "print('21. What is your household income level?')\n",
    "twentyone_income = widgets.Dropdown(\n",
    "    options = ['Less than $10,000',\n",
    "               '$10,000 to less than $15,000', \n",
    "               '$15,000 to less than $20,000',\n",
    "               '$20,000 to less than $25,000',\n",
    "               '$25,000 to less than $35,000',\n",
    "               '$35,000 to less than $50,000',\n",
    "               '$50,000 to less than $75,000',\n",
    "               '$75,000 or more'\n",
    "              ],\n",
    "    value='Less than $10,000',    \n",
    "    disabled=False,\n",
    ")\n",
    "display(twentyone_income)\n",
    "\n",
    "#Check heart health\n",
    "def check_health(self):\n",
    "    \n",
    "#Sets Variable 1 for High Blood Pressure\n",
    "    if one_hbp.value == 'No':\n",
    "        v_one = 0\n",
    "    else:\n",
    "        v_one = 1\n",
    "\n",
    "#Sets variable 2 for High Cholesterol\n",
    "    if two_hchl.value == 'No':\n",
    "        v_two = 0\n",
    "    else:\n",
    "        v_two = 1\n",
    "\n",
    "#Sets variable 3 for Cholesterol Check\n",
    "    if three_chlcheck.value == 'No':\n",
    "        v_three = 0\n",
    "    else:\n",
    "        v_three = 1\n",
    "\n",
    "#Sets variable 4\n",
    "    v_four = four_bmi.value\n",
    "\n",
    "#Sets variable 5\n",
    "    if five_smoker.value == 'No':\n",
    "        v_five = 0\n",
    "    else:\n",
    "        v_five = 1\n",
    "\n",
    "#Sets variable 6\n",
    "    if six_stroke.value == 'No':\n",
    "        v_six = 0\n",
    "    else:\n",
    "        v_six = 1\n",
    "\n",
    "#Sets variable 7\n",
    "    if seven_diabetes.value == 'No':\n",
    "        v_seven = 0\n",
    "    elif seven_diabetes.value == 'Pre-Diabetes':\n",
    "        v_seven = 1\n",
    "    else:\n",
    "        v_seven = 2\n",
    "\n",
    "#Sets variable 8\n",
    "    if eight_physactive.value == 'No':\n",
    "        v_eight = 0\n",
    "    else:\n",
    "        v_eight = 1\n",
    "\n",
    "#Sets variable 9\n",
    "    if nine_fruit.value == 'No':\n",
    "        v_nine = 0\n",
    "    else:\n",
    "        v_nine = 1\n",
    "\n",
    "#Sets variable 10\n",
    "    if ten_veggies.value == 'No':\n",
    "        v_ten = 0\n",
    "    else:\n",
    "        v_ten = 1\n",
    "\n",
    "#Sets variable 11\n",
    "    if eleven_drinker.value == 'No':\n",
    "        v_eleven = 0\n",
    "    else:\n",
    "        v_eleven = 1\n",
    "\n",
    "#Sets variable 12\n",
    "    if twelve_healthcare.value == 'No':\n",
    "        v_twelve = 0\n",
    "    else:\n",
    "        v_twelve = 1\n",
    "\n",
    "#Sets variable 13\n",
    "    if thirteen_doctor.value == 'No':\n",
    "        v_thirteen = 0\n",
    "    else:\n",
    "        v_thirteen = 1\n",
    "\n",
    "#Sets variable 14\n",
    "    if fourteen_health.value == 'Excellent':\n",
    "        v_fourteen = 1\n",
    "    elif fourteen_health.value == 'Very Good':\n",
    "        v_fourteen = 2\n",
    "    elif fourteen_health.value == 'Good':\n",
    "        v_fourteen = 3\n",
    "    elif fourteen_health.value == 'Fair':\n",
    "        v_fourteen = 4\n",
    "    else:\n",
    "        v_fourteen = 5\n",
    "\n",
    "#Sets variable 15\n",
    "    v_fifteen = fifteen_mentalh.value\n",
    "\n",
    "#Sets variable 16    \n",
    "    v_sixteen = sixteen_physh.value\n",
    "\n",
    "#Sets variable 17\n",
    "    if seventeen_walking.value == 'No':\n",
    "        v_seventeen = 0\n",
    "    else:\n",
    "        v_seventeen = 1\n",
    "\n",
    "#Sets variable 18\n",
    "    if eighteen_gender.value == 'Male':\n",
    "        v_eighteen = 0\n",
    "    else:\n",
    "        v_eighteen = 1\n",
    "\n",
    "#Sets variable 19\n",
    "    if nineteen_age.value == '18 to 24':\n",
    "        v_nineteen = 1\n",
    "    elif nineteen_age.value == '25 to 29':\n",
    "        v_nineteen = 2\n",
    "    elif nineteen_age.value == '30 to 34':\n",
    "        v_nineteen = 3\n",
    "    elif nineteen_age.value == '35 to 39':\n",
    "        v_nineteen = 4    \n",
    "    elif nineteen_age.value == '40 to 44':\n",
    "        v_nineteen = 5    \n",
    "    elif nineteen_age.value == '45 to 49':\n",
    "        v_nineteen = 6   \n",
    "    elif nineteen_age.value == '50 to 54':\n",
    "        v_nineteen = 7    \n",
    "    elif nineteen_age.value == '55 to 59':\n",
    "        v_nineteen = 8    \n",
    "    elif nineteen_age.value == '60 to 64':\n",
    "        v_nineteen = 9    \n",
    "    elif nineteen_age.value == '65 to 69':\n",
    "        v_nineteen = 10    \n",
    "    elif nineteen_age.value == '70 to 74':\n",
    "        v_nineteen = 11    \n",
    "    elif nineteen_age.value == '75 to 79':\n",
    "        v_nineteen = 12    \n",
    "    else:\n",
    "        v_nineteen = 13    \n",
    "\n",
    "#Sets variable 20\n",
    "    if twenty_edu.value == 'Never attended school or only kindergarten':\n",
    "        v_twenty = 1\n",
    "    elif twenty_edu.value == 'Grades 1 through 8 (Elementary)':\n",
    "        v_twenty = 2\n",
    "    elif twenty_edu.value == 'Grades 9 through 11 (Some high school)':\n",
    "        v_twenty = 3\n",
    "    elif twenty_edu.value == 'Grade 12 or GED (High school graduate)':\n",
    "        v_twenty = 4\n",
    "    elif twenty_edu.value == 'College 1 year to 3 years (Some college or technical school)':\n",
    "        v_twenty = 5\n",
    "    else:\n",
    "        v_twenty = 6\n",
    "\n",
    "#Sets variable 21\n",
    "    if twentyone_income.value == 'Less than $10,000':\n",
    "        v_twentyone = 1\n",
    "    elif twentyone_income.value == '$10,000 to less than $15,000':\n",
    "        v_twentyone = 2\n",
    "    elif twentyone_income.value == '$15,000 to less than $20,000':\n",
    "        v_twentyone = 3\n",
    "    elif twentyone_income.value == '$20,000 to less than $25,000':\n",
    "        v_twentyone = 4\n",
    "    elif twentyone_income.value == '$25,000 to less than $35,000':\n",
    "        v_twentyone = 5\n",
    "    elif twentyone_income.value == '$35,000 to less than $50,000':\n",
    "        v_twentyone = 6\n",
    "    elif twentyone_income.value == '$50,000 to less than $75,000':\n",
    "        v_twentyone = 7\n",
    "    else:\n",
    "        v_twentyone = 8\n",
    "    \n",
    "#Saves user data into sample_data\n",
    "    sample_data = np.array([v_one,v_two,v_three,v_four,v_five,v_six,v_seven,v_eight,v_nine,v_ten,v_eleven,v_twelve,v_thirteen,\n",
    "                           v_fourteen,v_fifteen,v_sixteen,v_seventeen,v_eighteen,v_nineteen,v_twenty,v_twentyone])\n",
    "    \n",
    "#Runs the sample data against the model\n",
    "    sample_result = heart_health_model.predict([sample_data])\n",
    "    \n",
    "#Print the results of the test, and clear the results for the next click of the button.\n",
    "    if sample_result == 0:\n",
    "        print('You are not currently at risk for heart disease.  ',end='\\x1b[1K\\r')\n",
    "    elif sample_result == 1:\n",
    "        print('You are at risk for heart disease.                ',end='\\x1b[1K\\r')\n",
    "    else:\n",
    "        print('An error occured.                                 ',end='\\x1b[1K\\r')\n",
    "    \n",
    "\n",
    "#Creates the check health button\n",
    "check_health_button = widgets.Button(\n",
    "    description='Check Heart Health',\n",
    "    disabled=False,\n",
    "    tooltip='Click me to check heart health.',\n",
    "    )\n",
    "display(check_health_button)\n",
    "\n",
    "#Tells the button what to do when clicked\n",
    "check_health_button.on_click(check_health)"
   ]
  },
  {
   "cell_type": "markdown",
   "id": "994f7a8f",
   "metadata": {},
   "source": [
    "__Confusion Matrix__"
   ]
  },
  {
   "cell_type": "code",
   "execution_count": 35,
   "id": "3fe7b995",
   "metadata": {},
   "outputs": [
    {
     "data": {
      "text/plain": [
       "<sklearn.metrics._plot.confusion_matrix.ConfusionMatrixDisplay at 0x2d617841790>"
      ]
     },
     "execution_count": 35,
     "metadata": {},
     "output_type": "execute_result"
    },
    {
     "data": {
      "image/png": "[encoded data removed]",
      "text/plain": [
       "<Figure size 640x480 with 2 Axes>"
      ]
     },
     "metadata": {},
     "output_type": "display_data"
    }
   ],
   "source": [
    "#Create Confusion Matrix to show accuracy of the model\n",
    "cm = confusion_matrix(y_test, y_pred)\n",
    "cm_display = metrics.ConfusionMatrixDisplay(cm, display_labels = ['Negative', 'Positive'])\n",
    "cm_display.plot()\n"
   ]
  },
  {
   "cell_type": "markdown",
   "id": "b7911bed",
   "metadata": {},
   "source": [
    "__Table Showing Statistics About BMI, Physical Health, and Mental Health__"
   ]
  },
  {
   "cell_type": "code",
   "execution_count": 6,
   "id": "32813064",
   "metadata": {},
   "outputs": [
    {
     "data": {
      "text/html": [
       "<div>\n",
       "<style scoped>\n",
       "    .dataframe tbody tr th:only-of-type {\n",
       "        vertical-align: middle;\n",
       "    }\n",
       "\n",
       "    .dataframe tbody tr th {\n",
       "        vertical-align: top;\n",
       "    }\n",
       "\n",
       "    .dataframe thead th {\n",
       "        text-align: right;\n",
       "    }\n",
       "</style>\n",
       "<table border=\"1\" class=\"dataframe\">\n",
       "  <thead>\n",
       "    <tr style=\"text-align: right;\">\n",
       "      <th></th>\n",
       "      <th>BMI</th>\n",
       "      <th>PhysHlth</th>\n",
       "      <th>MentHlth</th>\n",
       "    </tr>\n",
       "  </thead>\n",
       "  <tbody>\n",
       "    <tr>\n",
       "      <th>mean</th>\n",
       "      <td>28.382364</td>\n",
       "      <td>4.242081</td>\n",
       "      <td>3.184772</td>\n",
       "    </tr>\n",
       "    <tr>\n",
       "      <th>median</th>\n",
       "      <td>27.000000</td>\n",
       "      <td>0.000000</td>\n",
       "      <td>0.000000</td>\n",
       "    </tr>\n",
       "    <tr>\n",
       "      <th>max</th>\n",
       "      <td>98.000000</td>\n",
       "      <td>30.000000</td>\n",
       "      <td>30.000000</td>\n",
       "    </tr>\n",
       "    <tr>\n",
       "      <th>min</th>\n",
       "      <td>12.000000</td>\n",
       "      <td>0.000000</td>\n",
       "      <td>0.000000</td>\n",
       "    </tr>\n",
       "  </tbody>\n",
       "</table>\n",
       "</div>"
      ],
      "text/plain": [
       "              BMI   PhysHlth   MentHlth\n",
       "mean    28.382364   4.242081   3.184772\n",
       "median  27.000000   0.000000   0.000000\n",
       "max     98.000000  30.000000  30.000000\n",
       "min     12.000000   0.000000   0.000000"
      ]
     },
     "execution_count": 6,
     "metadata": {},
     "output_type": "execute_result"
    }
   ],
   "source": [
    "df[['BMI','PhysHlth','MentHlth']].apply(['mean','median','max','min'])\n"
   ]
  },
  {
   "cell_type": "markdown",
   "id": "86d9afd9",
   "metadata": {},
   "source": [
    "__Create Parts for Data Bar Chart__"
   ]
  },
  {
   "cell_type": "code",
   "execution_count": 7,
   "id": "0aad7463",
   "metadata": {},
   "outputs": [
    {
     "data": {
      "text/plain": [
       "No     211005\n",
       "Yes     42675\n",
       "Name: Difficulty Walking, dtype: int64"
      ]
     },
     "execution_count": 7,
     "metadata": {},
     "output_type": "execute_result"
    }
   ],
   "source": [
    "#Heart Disease or Attack Count\n",
    "heartcount = df['HeartDiseaseorAttack'].value_counts()\n",
    "heartcount.set_axis(['No','Yes'],axis=0,inplace=True)\n",
    "heartcount.rename('Heart Disease or Attack',inplace = True)\n",
    "\n",
    "#High Blood Pressure Count\n",
    "highbp = df['HighBP'].value_counts()\n",
    "highbp.set_axis(['No','Yes'],axis=0,inplace=True)\n",
    "highbp.rename('High Blood Pressure',inplace = True)\n",
    "\n",
    "#High Cholesterol Count\n",
    "highchol = df['HighChol'].value_counts()\n",
    "highchol.set_axis(['No','Yes'],axis=0,inplace=True)\n",
    "highchol.rename('High Cholesterol',inplace = True)\n",
    "\n",
    "#Cholesterol Checked Count\n",
    "cholcheck = df['CholCheck'].value_counts()\n",
    "cholcheck.set_axis(['No','Yes'],axis=0,inplace=True)\n",
    "cholcheck.rename('Cholesterol Checked',inplace = True)\n",
    "\n",
    "#Smoker Count\n",
    "smoker = df['Smoker'].value_counts()\n",
    "smoker.set_axis(['No','Yes'],axis=0,inplace=True)\n",
    "smoker.rename('Smoker',inplace = True)\n",
    "\n",
    "#Stroke Count\n",
    "stroke = df['Stroke'].value_counts()\n",
    "stroke.set_axis(['No','Yes'],axis=0,inplace=True)\n",
    "stroke.rename('Stroke',inplace = True)\n",
    "\n",
    "#Physically Active Count\n",
    "physactive = df['PhysActivity'].value_counts()\n",
    "physactive.set_axis(['No','Yes'],axis=0,inplace=True)\n",
    "physactive.rename('Physically Active',inplace = True)\n",
    "\n",
    "#Eat Fruits Count\n",
    "fruits = df['Fruits'].value_counts()\n",
    "fruits.set_axis(['No','Yes'],axis=0,inplace=True)\n",
    "fruits.rename('Eat Fruits',inplace = True)\n",
    "\n",
    "#Eat Veggies Count\n",
    "veggies = df['Veggies'].value_counts()\n",
    "veggies.set_axis(['No','Yes'],axis=0,inplace=True)\n",
    "veggies.rename('Eat Veggies',inplace = True)\n",
    "\n",
    "#Heavy Alcohol Consumption Count\n",
    "drinker = df['HvyAlcoholConsump'].value_counts()\n",
    "drinker.set_axis(['No','Yes'],axis=0,inplace=True)\n",
    "drinker.rename('Heavy Alcohol Consumption',inplace = True)\n",
    "\n",
    "#Recent Health Care Check Count\n",
    "healthcare = df['AnyHealthcare'].value_counts()\n",
    "healthcare.set_axis(['No','Yes'],axis=0,inplace=True)\n",
    "healthcare.rename('Recent Health Care',inplace = True)\n",
    "\n",
    "#Cost Prevent Healthcare Checks Count\n",
    "nodoc = df['NoDocbcCost'].value_counts()\n",
    "nodoc.set_axis(['No','Yes'],axis=0,inplace=True)\n",
    "nodoc.rename('Cost Prevent Healthcare',inplace = True)\n",
    "\n",
    "#Difficulty Walking Count\n",
    "walk = df['DiffWalk'].value_counts()\n",
    "walk.set_axis(['No','Yes'],axis=0,inplace=True)\n",
    "walk.rename('Difficulty Walking',inplace = True)"
   ]
  },
  {
   "cell_type": "markdown",
   "id": "3d4e868b",
   "metadata": {},
   "source": [
    "__Health Data Bar Chart__"
   ]
  },
  {
   "cell_type": "code",
   "execution_count": 31,
   "id": "55f6cd0c",
   "metadata": {},
   "outputs": [
    {
     "data": {
      "text/plain": [
       "Text(0.5, 0, 'Number of People')"
      ]
     },
     "execution_count": 31,
     "metadata": {},
     "output_type": "execute_result"
    },
    {
     "data": {
      "image/png": "[encoded data removed]",
      "text/plain": [
       "<Figure size 640x480 with 1 Axes>"
      ]
     },
     "metadata": {},
     "output_type": "display_data"
    }
   ],
   "source": [
    "#Create Health Data Bar Chart\n",
    "df1 = pd.concat([walk,nodoc,healthcare,drinker,veggies,fruits,physactive,stroke,smoker,cholcheck,highchol,highbp,heartcount],axis=1)\n",
    "df2 = df1.transpose()\n",
    "df2.plot.barh().legend(loc=7)\n",
    "plt.title('Breakdown of Yes or No Answers from the Dataset')\n",
    "plt.xlabel('Number of People')"
   ]
  },
  {
   "cell_type": "markdown",
   "id": "d1944d51",
   "metadata": {},
   "source": [
    "__Mental Wellness Chart__"
   ]
  },
  {
   "cell_type": "code",
   "execution_count": 16,
   "id": "0c851917",
   "metadata": {},
   "outputs": [
    {
     "data": {
      "text/plain": [
       "Text(0.5, 1.0, 'Mental Wellness Chart')"
      ]
     },
     "execution_count": 16,
     "metadata": {},
     "output_type": "execute_result"
    },
    {
     "data": {
      "image/png": "[encoded data removed]",
      "text/plain": [
       "<Figure size 640x480 with 1 Axes>"
      ]
     },
     "metadata": {},
     "output_type": "display_data"
    }
   ],
   "source": [
    "#Plot of Mental Health Distribution\n",
    "df.MentHlth.value_counts().sort_index().plot(kind='bar')\n",
    "plt.xlabel('Bad Mental Health Days in the Last 30 Days', horizontalalignment='center')\n",
    "plt.ylabel('Number of People')\n",
    "plt.title('Mental Wellness Chart')"
   ]
  },
  {
   "cell_type": "code",
   "execution_count": null,
   "id": "1aecbd0b",
   "metadata": {},
   "outputs": [],
   "source": []
  }
 ],
 "metadata": {
  "kernelspec": {
   "display_name": "Python 3 (ipykernel)",
   "language": "python",
   "name": "python3"
  },
  "language_info": {
   "codemirror_mode": {
    "name": "ipython",
    "version": 3
   },
   "file_extension": ".py",
   "mimetype": "text/x-python",
   "name": "python",
   "nbconvert_exporter": "python",
   "pygments_lexer": "ipython3",
   "version": "3.9.13"
  }
 },
 "nbformat": 4,
 "nbformat_minor": 5
}
